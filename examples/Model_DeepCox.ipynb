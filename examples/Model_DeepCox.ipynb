{
 "cells": [
  {
   "cell_type": "markdown",
   "metadata": {},
   "source": [
    "# DeepCox for simulated data\n",
    "\n",
    "## Introduction\n",
    "\n",
    "Let's use module `DeepCox` in `libsurv` to build a neural network for predicting hazard ratio. This notebook \n",
    "will show you how to build and train a neural network with the help of `libsurv`.\n",
    "\n",
    "## Preparation\n",
    "\n",
    "For all things going well, you would be better to get acquainted with **Survival Analysis**. Otherwise, I suggest you read the [reference](https://lifelines.readthedocs.io/en/latest/Survival%20Analysis%20intro.html).\n",
    "\n",
    "\n",
    "## Get it started\n",
    "\n",
    "### Obtain datasets \n",
    "\n",
    "Here we use the module `libsurv.datasets` to obtain the simulated survival datasets."
   ]
  },
  {
   "cell_type": "code",
   "execution_count": 1,
   "metadata": {},
   "outputs": [
    {
     "data": {
      "text/html": [
       "<div>\n",
       "<style scoped>\n",
       "    .dataframe tbody tr th:only-of-type {\n",
       "        vertical-align: middle;\n",
       "    }\n",
       "\n",
       "    .dataframe tbody tr th {\n",
       "        vertical-align: top;\n",
       "    }\n",
       "\n",
       "    .dataframe thead th {\n",
       "        text-align: right;\n",
       "    }\n",
       "</style>\n",
       "<table border=\"1\" class=\"dataframe\">\n",
       "  <thead>\n",
       "    <tr style=\"text-align: right;\">\n",
       "      <th></th>\n",
       "      <th>x_0</th>\n",
       "      <th>x_1</th>\n",
       "      <th>x_2</th>\n",
       "      <th>x_3</th>\n",
       "      <th>x_4</th>\n",
       "      <th>x_5</th>\n",
       "      <th>x_6</th>\n",
       "      <th>x_7</th>\n",
       "      <th>x_8</th>\n",
       "      <th>x_9</th>\n",
       "      <th>e</th>\n",
       "      <th>t</th>\n",
       "    </tr>\n",
       "  </thead>\n",
       "  <tbody>\n",
       "    <tr>\n",
       "      <th>0</th>\n",
       "      <td>-0.165956</td>\n",
       "      <td>0.440649</td>\n",
       "      <td>-0.999771</td>\n",
       "      <td>-0.395335</td>\n",
       "      <td>-0.706488</td>\n",
       "      <td>-0.815323</td>\n",
       "      <td>-0.627480</td>\n",
       "      <td>-0.308879</td>\n",
       "      <td>-0.206465</td>\n",
       "      <td>0.077633</td>\n",
       "      <td>1</td>\n",
       "      <td>0.933961</td>\n",
       "    </tr>\n",
       "    <tr>\n",
       "      <th>1</th>\n",
       "      <td>-0.161611</td>\n",
       "      <td>0.370439</td>\n",
       "      <td>-0.591096</td>\n",
       "      <td>0.756235</td>\n",
       "      <td>-0.945225</td>\n",
       "      <td>0.340935</td>\n",
       "      <td>-0.165390</td>\n",
       "      <td>0.117380</td>\n",
       "      <td>-0.719226</td>\n",
       "      <td>-0.603797</td>\n",
       "      <td>1</td>\n",
       "      <td>0.242949</td>\n",
       "    </tr>\n",
       "    <tr>\n",
       "      <th>2</th>\n",
       "      <td>0.601489</td>\n",
       "      <td>0.936523</td>\n",
       "      <td>-0.373152</td>\n",
       "      <td>0.384645</td>\n",
       "      <td>0.752778</td>\n",
       "      <td>0.789213</td>\n",
       "      <td>-0.829912</td>\n",
       "      <td>-0.921890</td>\n",
       "      <td>-0.660339</td>\n",
       "      <td>0.756285</td>\n",
       "      <td>0</td>\n",
       "      <td>15.000000</td>\n",
       "    </tr>\n",
       "    <tr>\n",
       "      <th>3</th>\n",
       "      <td>-0.803306</td>\n",
       "      <td>-0.157785</td>\n",
       "      <td>0.915779</td>\n",
       "      <td>0.066331</td>\n",
       "      <td>0.383754</td>\n",
       "      <td>-0.368969</td>\n",
       "      <td>0.373002</td>\n",
       "      <td>0.669251</td>\n",
       "      <td>-0.963423</td>\n",
       "      <td>0.500289</td>\n",
       "      <td>0</td>\n",
       "      <td>15.000000</td>\n",
       "    </tr>\n",
       "    <tr>\n",
       "      <th>4</th>\n",
       "      <td>0.977722</td>\n",
       "      <td>0.496331</td>\n",
       "      <td>-0.439112</td>\n",
       "      <td>0.578559</td>\n",
       "      <td>-0.793548</td>\n",
       "      <td>-0.104213</td>\n",
       "      <td>0.817191</td>\n",
       "      <td>-0.412772</td>\n",
       "      <td>-0.424449</td>\n",
       "      <td>-0.739943</td>\n",
       "      <td>0</td>\n",
       "      <td>15.000000</td>\n",
       "    </tr>\n",
       "  </tbody>\n",
       "</table>\n",
       "</div>"
      ],
      "text/plain": [
       "        x_0       x_1       x_2       x_3       x_4       x_5       x_6  \\\n",
       "0 -0.165956  0.440649 -0.999771 -0.395335 -0.706488 -0.815323 -0.627480   \n",
       "1 -0.161611  0.370439 -0.591096  0.756235 -0.945225  0.340935 -0.165390   \n",
       "2  0.601489  0.936523 -0.373152  0.384645  0.752778  0.789213 -0.829912   \n",
       "3 -0.803306 -0.157785  0.915779  0.066331  0.383754 -0.368969  0.373002   \n",
       "4  0.977722  0.496331 -0.439112  0.578559 -0.793548 -0.104213  0.817191   \n",
       "\n",
       "        x_7       x_8       x_9  e          t  \n",
       "0 -0.308879 -0.206465  0.077633  1   0.933961  \n",
       "1  0.117380 -0.719226 -0.603797  1   0.242949  \n",
       "2 -0.921890 -0.660339  0.756285  0  15.000000  \n",
       "3  0.669251 -0.963423  0.500289  0  15.000000  \n",
       "4 -0.412772 -0.424449 -0.739943  0  15.000000  "
      ]
     },
     "execution_count": 1,
     "metadata": {},
     "output_type": "execute_result"
    }
   ],
   "source": [
    "from libsurv.datasets import load_simulated_data\n",
    "\n",
    "### generate simulated data (Pandas.DataFrame)\n",
    "# data configuration: \n",
    "#     hazard ratio = 2000\n",
    "#     number of features = 10\n",
    "#     number of valid features = 2\n",
    "\n",
    "# No. of training data = 2000\n",
    "train_data = load_simulated_data(2000, N=2000, num_var=2, num_features=10, seed=1)\n",
    "# No. of training data = 800\n",
    "test_data = load_simulated_data(2000, N=800, num_var=2, num_features=10, seed=1)\n",
    "\n",
    "train_data.head()"
   ]
  },
  {
   "cell_type": "markdown",
   "metadata": {},
   "source": [
    "### Dataset statistics\n",
    "\n",
    "Print statistics of survival data. The function `survival_stats` in `libsurv.datasets` provides the tool."
   ]
  },
  {
   "cell_type": "code",
   "execution_count": 2,
   "metadata": {},
   "outputs": [
    {
     "name": "stdout",
     "output_type": "stream",
     "text": [
      "--------------- Survival Data Statistics ---------------\n",
      "# Rows: 2000\n",
      "# Columns: 10 + e + t\n",
      "# Events Ratio: 73.55%\n",
      "# Min Time: 0.0001404392\n",
      "# Max Time: 15.0\n",
      "\n"
     ]
    },
    {
     "data": {
      "image/png": "[encoded data removed]",
      "text/plain": [
       "<Figure size 432x288 with 2 Axes>"
      ]
     },
     "metadata": {
      "needs_background": "light"
     },
     "output_type": "display_data"
    }
   ],
   "source": [
    "from libsurv.datasets import survival_stats\n",
    "\n",
    "survival_stats(train_data, t_col=\"t\", e_col=\"e\", plot=True)"
   ]
  },
  {
   "cell_type": "code",
   "execution_count": 3,
   "metadata": {},
   "outputs": [
    {
     "name": "stdout",
     "output_type": "stream",
     "text": [
      "--------------- Survival Data Statistics ---------------\n",
      "# Rows: 800\n",
      "# Columns: 10 + e + t\n",
      "# Events Ratio: 73.62%\n",
      "# Min Time: 0.00054798834\n",
      "# Max Time: 15.0\n",
      "\n"
     ]
    },
    {
     "data": {
      "image/png": "[encoded data removed]",
      "text/plain": [
       "<Figure size 432x288 with 2 Axes>"
      ]
     },
     "metadata": {
      "needs_background": "light"
     },
     "output_type": "display_data"
    }
   ],
   "source": [
    "survival_stats(test_data, t_col=\"t\", e_col=\"e\", plot=True)"
   ]
  },
  {
   "cell_type": "markdown",
   "metadata": {},
   "source": [
    "### Survival data transfrom\n",
    "\n",
    "The column of time and status in survival data will be packed into an new column in the transformed data.\n",
    "\n",
    "So you can see, the transformed survival data contains an new label, where negtive values are considered as right censored, and positive values are considered as event occurrence.\n",
    "\n",
    "**NOTE**: In `libsurv`, survival data must be transformed via `tfdeepsurv.datasets.survival_df`."
   ]
  },
  {
   "cell_type": "code",
   "execution_count": 4,
   "metadata": {},
   "outputs": [
    {
     "data": {
      "text/html": [
       "<div>\n",
       "<style scoped>\n",
       "    .dataframe tbody tr th:only-of-type {\n",
       "        vertical-align: middle;\n",
       "    }\n",
       "\n",
       "    .dataframe tbody tr th {\n",
       "        vertical-align: top;\n",
       "    }\n",
       "\n",
       "    .dataframe thead th {\n",
       "        text-align: right;\n",
       "    }\n",
       "</style>\n",
       "<table border=\"1\" class=\"dataframe\">\n",
       "  <thead>\n",
       "    <tr style=\"text-align: right;\">\n",
       "      <th></th>\n",
       "      <th>x_0</th>\n",
       "      <th>x_1</th>\n",
       "      <th>x_2</th>\n",
       "      <th>x_3</th>\n",
       "      <th>x_4</th>\n",
       "      <th>x_5</th>\n",
       "      <th>x_6</th>\n",
       "      <th>x_7</th>\n",
       "      <th>x_8</th>\n",
       "      <th>x_9</th>\n",
       "      <th>Y</th>\n",
       "    </tr>\n",
       "  </thead>\n",
       "  <tbody>\n",
       "    <tr>\n",
       "      <th>0</th>\n",
       "      <td>-0.165956</td>\n",
       "      <td>0.440649</td>\n",
       "      <td>-0.999771</td>\n",
       "      <td>-0.395335</td>\n",
       "      <td>-0.706488</td>\n",
       "      <td>-0.815323</td>\n",
       "      <td>-0.627480</td>\n",
       "      <td>-0.308879</td>\n",
       "      <td>-0.206465</td>\n",
       "      <td>0.077633</td>\n",
       "      <td>0.933961</td>\n",
       "    </tr>\n",
       "    <tr>\n",
       "      <th>1</th>\n",
       "      <td>-0.161611</td>\n",
       "      <td>0.370439</td>\n",
       "      <td>-0.591096</td>\n",
       "      <td>0.756235</td>\n",
       "      <td>-0.945225</td>\n",
       "      <td>0.340935</td>\n",
       "      <td>-0.165390</td>\n",
       "      <td>0.117380</td>\n",
       "      <td>-0.719226</td>\n",
       "      <td>-0.603797</td>\n",
       "      <td>0.242949</td>\n",
       "    </tr>\n",
       "    <tr>\n",
       "      <th>2</th>\n",
       "      <td>0.601489</td>\n",
       "      <td>0.936523</td>\n",
       "      <td>-0.373152</td>\n",
       "      <td>0.384645</td>\n",
       "      <td>0.752778</td>\n",
       "      <td>0.789213</td>\n",
       "      <td>-0.829912</td>\n",
       "      <td>-0.921890</td>\n",
       "      <td>-0.660339</td>\n",
       "      <td>0.756285</td>\n",
       "      <td>-15.000000</td>\n",
       "    </tr>\n",
       "    <tr>\n",
       "      <th>3</th>\n",
       "      <td>-0.803306</td>\n",
       "      <td>-0.157785</td>\n",
       "      <td>0.915779</td>\n",
       "      <td>0.066331</td>\n",
       "      <td>0.383754</td>\n",
       "      <td>-0.368969</td>\n",
       "      <td>0.373002</td>\n",
       "      <td>0.669251</td>\n",
       "      <td>-0.963423</td>\n",
       "      <td>0.500289</td>\n",
       "      <td>-15.000000</td>\n",
       "    </tr>\n",
       "    <tr>\n",
       "      <th>4</th>\n",
       "      <td>0.977722</td>\n",
       "      <td>0.496331</td>\n",
       "      <td>-0.439112</td>\n",
       "      <td>0.578559</td>\n",
       "      <td>-0.793548</td>\n",
       "      <td>-0.104213</td>\n",
       "      <td>0.817191</td>\n",
       "      <td>-0.412772</td>\n",
       "      <td>-0.424449</td>\n",
       "      <td>-0.739943</td>\n",
       "      <td>-15.000000</td>\n",
       "    </tr>\n",
       "  </tbody>\n",
       "</table>\n",
       "</div>"
      ],
      "text/plain": [
       "        x_0       x_1       x_2       x_3       x_4       x_5       x_6  \\\n",
       "0 -0.165956  0.440649 -0.999771 -0.395335 -0.706488 -0.815323 -0.627480   \n",
       "1 -0.161611  0.370439 -0.591096  0.756235 -0.945225  0.340935 -0.165390   \n",
       "2  0.601489  0.936523 -0.373152  0.384645  0.752778  0.789213 -0.829912   \n",
       "3 -0.803306 -0.157785  0.915779  0.066331  0.383754 -0.368969  0.373002   \n",
       "4  0.977722  0.496331 -0.439112  0.578559 -0.793548 -0.104213  0.817191   \n",
       "\n",
       "        x_7       x_8       x_9          Y  \n",
       "0 -0.308879 -0.206465  0.077633   0.933961  \n",
       "1  0.117380 -0.719226 -0.603797   0.242949  \n",
       "2 -0.921890 -0.660339  0.756285 -15.000000  \n",
       "3  0.669251 -0.963423  0.500289 -15.000000  \n",
       "4 -0.412772 -0.424449 -0.739943 -15.000000  "
      ]
     },
     "execution_count": 4,
     "metadata": {},
     "output_type": "execute_result"
    }
   ],
   "source": [
    "from libsurv.datasets import survival_df\n",
    "\n",
    "surv_train = survival_df(train_data, t_col=\"t\", e_col=\"e\", label_col=\"Y\")\n",
    "surv_test = survival_df(test_data, t_col=\"t\", e_col=\"e\", label_col=\"Y\")\n",
    "\n",
    "# columns 't' and 'e' are packed into an new column 'Y'\n",
    "surv_train.head()"
   ]
  },
  {
   "cell_type": "markdown",
   "metadata": {},
   "source": [
    "### Model initialization\n",
    "\n",
    "Here we start to initialize a DeepCox model."
   ]
  },
  {
   "cell_type": "code",
   "execution_count": 5,
   "metadata": {
    "collapsed": true
   },
   "outputs": [],
   "source": [
    "from libsurv import DeepCox\n",
    "\n",
    "input_nodes = 10\n",
    "hidden_layers_nodes = [6, 3, 1]\n",
    "\n",
    "# the arguments of dsnn can be obtained by Bayesian Hyperparameters Tuning\n",
    "nn_config = {\n",
    "    \"learning_rate\": 0.7,\n",
    "    \"learning_rate_decay\": 1.0,\n",
    "    \"activation\": 'relu', \n",
    "    \"L1_reg\": 3.4e-5, \n",
    "    \"L2_reg\": 8.8e-5, \n",
    "    \"optimizer\": 'sgd',\n",
    "    \"dropout_keep_prob\": 1.0,\n",
    "    \"seed\": 1\n",
    "}\n",
    "# ESSENTIAL STEP: Pass arguments\n",
    "model = DeepCox(\n",
    "    input_nodes, \n",
    "    hidden_layers_nodes,\n",
    "    nn_config\n",
    ")\n",
    "# ESSENTIAL STEP: Build Computation Graph\n",
    "model.build_graph()"
   ]
  },
  {
   "cell_type": "markdown",
   "metadata": {},
   "source": [
    "### Model training\n",
    "\n",
    "You can save your trained model by passing `save_model=\"file_name.ckpt\"` or load your trained model by passing `load_model=\"file_name.ckpt\"`"
   ]
  },
  {
   "cell_type": "code",
   "execution_count": 6,
   "metadata": {},
   "outputs": [
    {
     "name": "stdout",
     "output_type": "stream",
     "text": [
      "Average loss at step 100: 6.29702\n",
      "Average loss at step 200: 6.29701\n",
      "Average loss at step 300: 6.29700\n",
      "Average loss at step 400: 6.29699\n",
      "Average loss at step 500: 6.29698\n",
      "Average loss at step 600: 6.29697\n",
      "Average loss at step 700: 6.29697\n",
      "Average loss at step 800: 6.29696\n",
      "Average loss at step 900: 6.29695\n",
      "Average loss at step 1000: 6.29697\n",
      "Average loss at step 1100: 6.29693\n",
      "Average loss at step 1200: 6.29690\n",
      "Average loss at step 1300: 6.29681\n",
      "Average loss at step 1400: 6.29497\n",
      "Average loss at step 1500: 6.22250\n",
      "Average loss at step 1600: 6.01389\n",
      "Average loss at step 1700: 5.99277\n",
      "Average loss at step 1800: 5.98749\n",
      "Average loss at step 1900: 5.98466\n"
     ]
    },
    {
     "data": {
      "image/png": "[encoded data removed]",
      "text/plain": [
       "<Figure size 432x288 with 1 Axes>"
      ]
     },
     "metadata": {
      "needs_background": "light"
     },
     "output_type": "display_data"
    },
    {
     "data": {
      "image/png": "[encoded data removed]",
      "text/plain": [
       "<Figure size 432x288 with 1 Axes>"
      ]
     },
     "metadata": {
      "needs_background": "light"
     },
     "output_type": "display_data"
    }
   ],
   "source": [
    "Y_col = [\"Y\"]\n",
    "X_cols = [c for c in surv_train.columns if c not in Y_col]\n",
    "\n",
    "# model saving and loading is also supported!\n",
    "# read comments of `train()` function if necessary.\n",
    "watch_list = model.train(\n",
    "    surv_train[X_cols], surv_train[Y_col],\n",
    "    num_steps=1900,\n",
    "    num_skip_steps=100,\n",
    "    plot=True,\n",
    "    silent=False\n",
    ")"
   ]
  },
  {
   "cell_type": "markdown",
   "metadata": {},
   "source": [
    "### Model evaluation\n",
    "\n",
    "Model evaluation via method `DeepCox.evals()`."
   ]
  },
  {
   "cell_type": "code",
   "execution_count": 7,
   "metadata": {},
   "outputs": [
    {
     "name": "stdout",
     "output_type": "stream",
     "text": [
      "CI on training data: 0.8070749683759434\n",
      "CI on test data: 0.8098841802686211\n"
     ]
    }
   ],
   "source": [
    "print(\"CI on training data:\", model.evals(surv_train[X_cols], surv_train[Y_col]))\n",
    "print(\"CI on test data:\", model.evals(surv_test[X_cols], surv_test[Y_col]))"
   ]
  },
  {
   "cell_type": "markdown",
   "metadata": {},
   "source": [
    "### Model prediction\n",
    "\n",
    "Model prediction includes two methods:\n",
    "- predicting hazard ratio or log hazard ratio\n",
    "- predicting survival function"
   ]
  },
  {
   "cell_type": "code",
   "execution_count": 8,
   "metadata": {},
   "outputs": [
    {
     "name": "stdout",
     "output_type": "stream",
     "text": [
      "[[1.3238575]\n",
      " [1.1932976]\n",
      " [3.409112 ]\n",
      " [2.3401275]\n",
      " [3.3911765]\n",
      " [3.4612393]\n",
      " [2.1510317]\n",
      " [3.4415257]\n",
      " [2.8796167]\n",
      " [3.8240776]\n",
      " [1.0372685]]\n",
      "[[ 3.7578897]\n",
      " [ 3.2979386]\n",
      " [30.23838  ]\n",
      " [10.38256  ]\n",
      " [29.700874 ]\n",
      " [31.856434 ]\n",
      " [ 8.59372  ]\n",
      " [31.234577 ]\n",
      " [17.807447 ]\n",
      " [45.790543 ]\n",
      " [ 2.8214996]]\n"
     ]
    }
   ],
   "source": [
    "# predict log hazard ratio\n",
    "print(model.predict(surv_test.loc[0:10, X_cols]))\n",
    "\n",
    "# predict hazard ratio\n",
    "print(model.predict(surv_test.loc[0:10, X_cols], output_margin=False))"
   ]
  },
  {
   "cell_type": "code",
   "execution_count": 9,
   "metadata": {},
   "outputs": [
    {
     "data": {
      "image/png": "[encoded data removed]",
      "text/plain": [
       "<Figure size 432x288 with 1 Axes>"
      ]
     },
     "metadata": {
      "needs_background": "light"
     },
     "output_type": "display_data"
    },
    {
     "data": {
      "text/html": [
       "<div>\n",
       "<style scoped>\n",
       "    .dataframe tbody tr th:only-of-type {\n",
       "        vertical-align: middle;\n",
       "    }\n",
       "\n",
       "    .dataframe tbody tr th {\n",
       "        vertical-align: top;\n",
       "    }\n",
       "\n",
       "    .dataframe thead th {\n",
       "        text-align: right;\n",
       "    }\n",
       "</style>\n",
       "<table border=\"1\" class=\"dataframe\">\n",
       "  <thead>\n",
       "    <tr style=\"text-align: right;\">\n",
       "      <th></th>\n",
       "      <th>0.00014043919509276748</th>\n",
       "      <th>0.00039331152220256627</th>\n",
       "      <th>0.00126435118727386</th>\n",
       "      <th>0.0027157075237482786</th>\n",
       "      <th>0.002904581604525447</th>\n",
       "      <th>0.0030980780720710754</th>\n",
       "      <th>0.003499445738270879</th>\n",
       "      <th>0.0036616716533899307</th>\n",
       "      <th>0.004621267784386873</th>\n",
       "      <th>0.004637269768863916</th>\n",
       "      <th>...</th>\n",
       "      <th>14.737560272216797</th>\n",
       "      <th>14.74014663696289</th>\n",
       "      <th>14.750370979309082</th>\n",
       "      <th>14.778524398803711</th>\n",
       "      <th>14.781179428100586</th>\n",
       "      <th>14.794774055480957</th>\n",
       "      <th>14.816924095153809</th>\n",
       "      <th>14.933478355407715</th>\n",
       "      <th>14.945713996887207</th>\n",
       "      <th>15.0</th>\n",
       "    </tr>\n",
       "  </thead>\n",
       "  <tbody>\n",
       "    <tr>\n",
       "      <th>0</th>\n",
       "      <td>0.999896</td>\n",
       "      <td>0.999791</td>\n",
       "      <td>0.999687</td>\n",
       "      <td>0.999582</td>\n",
       "      <td>0.999478</td>\n",
       "      <td>0.999373</td>\n",
       "      <td>0.999269</td>\n",
       "      <td>0.999165</td>\n",
       "      <td>0.999060</td>\n",
       "      <td>0.998956</td>\n",
       "      <td>...</td>\n",
       "      <td>0.822885</td>\n",
       "      <td>0.822704</td>\n",
       "      <td>0.822524</td>\n",
       "      <td>0.822343</td>\n",
       "      <td>0.822162</td>\n",
       "      <td>0.821981</td>\n",
       "      <td>0.821800</td>\n",
       "      <td>0.821619</td>\n",
       "      <td>0.821437</td>\n",
       "      <td>0.821437</td>\n",
       "    </tr>\n",
       "    <tr>\n",
       "      <th>1</th>\n",
       "      <td>0.999908</td>\n",
       "      <td>0.999817</td>\n",
       "      <td>0.999725</td>\n",
       "      <td>0.999633</td>\n",
       "      <td>0.999542</td>\n",
       "      <td>0.999450</td>\n",
       "      <td>0.999358</td>\n",
       "      <td>0.999267</td>\n",
       "      <td>0.999175</td>\n",
       "      <td>0.999084</td>\n",
       "      <td>...</td>\n",
       "      <td>0.842755</td>\n",
       "      <td>0.842593</td>\n",
       "      <td>0.842430</td>\n",
       "      <td>0.842268</td>\n",
       "      <td>0.842105</td>\n",
       "      <td>0.841943</td>\n",
       "      <td>0.841780</td>\n",
       "      <td>0.841617</td>\n",
       "      <td>0.841453</td>\n",
       "      <td>0.841453</td>\n",
       "    </tr>\n",
       "    <tr>\n",
       "      <th>2</th>\n",
       "      <td>0.999160</td>\n",
       "      <td>0.998321</td>\n",
       "      <td>0.997482</td>\n",
       "      <td>0.996644</td>\n",
       "      <td>0.995806</td>\n",
       "      <td>0.994970</td>\n",
       "      <td>0.994134</td>\n",
       "      <td>0.993298</td>\n",
       "      <td>0.992463</td>\n",
       "      <td>0.991629</td>\n",
       "      <td>...</td>\n",
       "      <td>0.208336</td>\n",
       "      <td>0.207969</td>\n",
       "      <td>0.207601</td>\n",
       "      <td>0.207235</td>\n",
       "      <td>0.206868</td>\n",
       "      <td>0.206502</td>\n",
       "      <td>0.206136</td>\n",
       "      <td>0.205770</td>\n",
       "      <td>0.205405</td>\n",
       "      <td>0.205405</td>\n",
       "    </tr>\n",
       "    <tr>\n",
       "      <th>3</th>\n",
       "      <td>0.999711</td>\n",
       "      <td>0.999423</td>\n",
       "      <td>0.999135</td>\n",
       "      <td>0.998846</td>\n",
       "      <td>0.998558</td>\n",
       "      <td>0.998270</td>\n",
       "      <td>0.997982</td>\n",
       "      <td>0.997694</td>\n",
       "      <td>0.997406</td>\n",
       "      <td>0.997118</td>\n",
       "      <td>...</td>\n",
       "      <td>0.583570</td>\n",
       "      <td>0.583216</td>\n",
       "      <td>0.582863</td>\n",
       "      <td>0.582509</td>\n",
       "      <td>0.582155</td>\n",
       "      <td>0.581801</td>\n",
       "      <td>0.581447</td>\n",
       "      <td>0.581092</td>\n",
       "      <td>0.580738</td>\n",
       "      <td>0.580738</td>\n",
       "    </tr>\n",
       "    <tr>\n",
       "      <th>4</th>\n",
       "      <td>0.999175</td>\n",
       "      <td>0.998350</td>\n",
       "      <td>0.997527</td>\n",
       "      <td>0.996703</td>\n",
       "      <td>0.995881</td>\n",
       "      <td>0.995059</td>\n",
       "      <td>0.994237</td>\n",
       "      <td>0.993417</td>\n",
       "      <td>0.992597</td>\n",
       "      <td>0.991777</td>\n",
       "      <td>...</td>\n",
       "      <td>0.214227</td>\n",
       "      <td>0.213856</td>\n",
       "      <td>0.213485</td>\n",
       "      <td>0.213114</td>\n",
       "      <td>0.212744</td>\n",
       "      <td>0.212374</td>\n",
       "      <td>0.212004</td>\n",
       "      <td>0.211635</td>\n",
       "      <td>0.211266</td>\n",
       "      <td>0.211266</td>\n",
       "    </tr>\n",
       "    <tr>\n",
       "      <th>5</th>\n",
       "      <td>0.999115</td>\n",
       "      <td>0.998231</td>\n",
       "      <td>0.997347</td>\n",
       "      <td>0.996465</td>\n",
       "      <td>0.995582</td>\n",
       "      <td>0.994701</td>\n",
       "      <td>0.993821</td>\n",
       "      <td>0.992941</td>\n",
       "      <td>0.992062</td>\n",
       "      <td>0.991183</td>\n",
       "      <td>...</td>\n",
       "      <td>0.191563</td>\n",
       "      <td>0.191207</td>\n",
       "      <td>0.190851</td>\n",
       "      <td>0.190496</td>\n",
       "      <td>0.190141</td>\n",
       "      <td>0.189787</td>\n",
       "      <td>0.189432</td>\n",
       "      <td>0.189078</td>\n",
       "      <td>0.188724</td>\n",
       "      <td>0.188724</td>\n",
       "    </tr>\n",
       "  </tbody>\n",
       "</table>\n",
       "<p>6 rows × 1472 columns</p>\n",
       "</div>"
      ],
      "text/plain": [
       "   0.000140   0.000393   0.001264   0.002716   0.002905   0.003098   \\\n",
       "0   0.999896   0.999791   0.999687   0.999582   0.999478   0.999373   \n",
       "1   0.999908   0.999817   0.999725   0.999633   0.999542   0.999450   \n",
       "2   0.999160   0.998321   0.997482   0.996644   0.995806   0.994970   \n",
       "3   0.999711   0.999423   0.999135   0.998846   0.998558   0.998270   \n",
       "4   0.999175   0.998350   0.997527   0.996703   0.995881   0.995059   \n",
       "5   0.999115   0.998231   0.997347   0.996465   0.995582   0.994701   \n",
       "\n",
       "   0.003499   0.003662   0.004621   0.004637   ...  14.737560  14.740147  \\\n",
       "0   0.999269   0.999165   0.999060   0.998956  ...   0.822885   0.822704   \n",
       "1   0.999358   0.999267   0.999175   0.999084  ...   0.842755   0.842593   \n",
       "2   0.994134   0.993298   0.992463   0.991629  ...   0.208336   0.207969   \n",
       "3   0.997982   0.997694   0.997406   0.997118  ...   0.583570   0.583216   \n",
       "4   0.994237   0.993417   0.992597   0.991777  ...   0.214227   0.213856   \n",
       "5   0.993821   0.992941   0.992062   0.991183  ...   0.191563   0.191207   \n",
       "\n",
       "   14.750371  14.778524  14.781179  14.794774  14.816924  14.933478  \\\n",
       "0   0.822524   0.822343   0.822162   0.821981   0.821800   0.821619   \n",
       "1   0.842430   0.842268   0.842105   0.841943   0.841780   0.841617   \n",
       "2   0.207601   0.207235   0.206868   0.206502   0.206136   0.205770   \n",
       "3   0.582863   0.582509   0.582155   0.581801   0.581447   0.581092   \n",
       "4   0.213485   0.213114   0.212744   0.212374   0.212004   0.211635   \n",
       "5   0.190851   0.190496   0.190141   0.189787   0.189432   0.189078   \n",
       "\n",
       "   14.945714  15.000000  \n",
       "0   0.821437   0.821437  \n",
       "1   0.841453   0.841453  \n",
       "2   0.205405   0.205405  \n",
       "3   0.580738   0.580738  \n",
       "4   0.211266   0.211266  \n",
       "5   0.188724   0.188724  \n",
       "\n",
       "[6 rows x 1472 columns]"
      ]
     },
     "execution_count": 9,
     "metadata": {},
     "output_type": "execute_result"
    }
   ],
   "source": [
    "# predict survival function\n",
    "model.predict_survival_function(surv_test.loc[0:5, X_cols], plot=True)"
   ]
  },
  {
   "cell_type": "markdown",
   "metadata": {},
   "source": [
    "### tf.session close\n",
    "\n",
    "To release resources, we use `DeepCox.close_session()` to close session in tensorflow!"
   ]
  },
  {
   "cell_type": "code",
   "execution_count": 10,
   "metadata": {},
   "outputs": [
    {
     "name": "stdout",
     "output_type": "stream",
     "text": [
      "Current session closed.\n"
     ]
    }
   ],
   "source": [
    "model.close_session()"
   ]
  }
 ],
 "metadata": {
  "kernelspec": {
   "display_name": "Python 3",
   "language": "python",
   "name": "python3"
  },
  "language_info": {
   "codemirror_mode": {
    "name": "ipython",
    "version": 3
   },
   "file_extension": ".py",
   "mimetype": "text/x-python",
   "name": "python",
   "nbconvert_exporter": "python",
   "pygments_lexer": "ipython3",
   "version": "3.6.2"
  },
  "toc": {
   "base_numbering": 1,
   "nav_menu": {},
   "number_sections": true,
   "sideBar": true,
   "skip_h1_title": false,
   "title_cell": "Table of Contents",
   "title_sidebar": "Contents",
   "toc_cell": false,
   "toc_position": {},
   "toc_section_display": true,
   "toc_window_display": true
  }
 },
 "nbformat": 4,
 "nbformat_minor": 2
}
